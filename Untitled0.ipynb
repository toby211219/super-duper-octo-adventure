{
  "nbformat": 4,
  "nbformat_minor": 0,
  "metadata": {
    "colab": {
      "provenance": [],
      "authorship_tag": "ABX9TyOwes2NZUJ6GGDeKmtAs+GW",
      "include_colab_link": true
    },
    "kernelspec": {
      "name": "python3",
      "display_name": "Python 3"
    },
    "language_info": {
      "name": "python"
    }
  },
  "cells": [
    {
      "cell_type": "markdown",
      "metadata": {
        "id": "view-in-github",
        "colab_type": "text"
      },
      "source": [
        "<a href=\"https://colab.research.google.com/github/toby211219/super-duper-octo-adventure/blob/main/Untitled0.ipynb\" target=\"_parent\"><img src=\"https://colab.research.google.com/assets/colab-badge.svg\" alt=\"Open In Colab\"/></a>"
      ]
    },
    {
      "cell_type": "code",
      "metadata": {
        "colab": {
          "base_uri": "https://localhost:8080/",
          "height": 260
        },
        "id": "70634447",
        "outputId": "b31d298a-7078-4d41-e424-52ffc62bf222"
      },
      "source": [
        "# 1. Install necessary libraries\n",
        "# This line installs the Google Generative AI Python client library.\n",
        "# Skip this step if you have already installed it.\n",
        "!pip install google-generativeai -q\n",
        "\n",
        "# Import necessary libraries\n",
        "import google.generativeai as genai\n",
        "from google.colab import userdata\n",
        "import os\n",
        "\n",
        "# 2. Load the API key\n",
        "# Securely load your Google AI Studio API key from Colab Secrets Manager.\n",
        "# Make sure to add your key to the Secrets Manager and name it 'GOOGLE_API_KEY'.\n",
        "api_key = None\n",
        "try:\n",
        "    api_key = userdata.get('GOOGLE_API_KEY')\n",
        "    if api_key is None:\n",
        "        print(\"API key not found in Colab Secrets Manager. Please add it as 'GOOGLE_API_KEY'.\")\n",
        "except Exception as e:\n",
        "    print(f\"An error occurred while loading the API key: {e}\")\n",
        "\n",
        "if not api_key:\n",
        "    print(\"Failed to load API key. Please check Secrets Manager settings.\")\n",
        "else:\n",
        "    print(\"API key loaded successfully.\")\n",
        "    # 3. Initialize the Generative AI model\n",
        "    # Initialize the Google Generative AI model using the loaded key.\n",
        "    try:\n",
        "        genai.configure(api_key=api_key)\n",
        "        # Choose a model that supports the generate_content method, e.g., 'gemini-pro' or 'gemini-1.5-flash'\n",
        "        # You can use genai.list_models() to see available models\n",
        "        model_name = 'gemini-1.5-flash' # Or 'gemini-pro' or another suitable model\n",
        "        model = genai.GenerativeModel(model_name)\n",
        "        print(f\"Google Generative AI model '{model_name}' initialized.\")\n",
        "\n",
        "        # --- Add code for user input prompt ---\n",
        "        prompt_text = input(\"Please enter your question: \")\n",
        "        # --- End of code for user input prompt ---\n",
        "\n",
        "        # 4. Send the prompt and capture the response\n",
        "        print(f\"\\nPrompt text created: {prompt_text}\")\n",
        "\n",
        "        print(\"Sending prompt to the model...\")\n",
        "        response = model.generate_content(prompt_text)\n",
        "        print(\"Prompt sent, response received.\")\n",
        "\n",
        "        # 5. Process and display the response\n",
        "        # Get the model's generated response and display it.\n",
        "        try:\n",
        "            response_text = response.text\n",
        "            print(\"\\n--- AI Model Response ---\")\n",
        "            print(response_text)\n",
        "            print(\"-------------------------\")\n",
        "        except AttributeError:\n",
        "            print(\"Could not extract text from the response object.\")\n",
        "            print(\"Full response object:\", response)\n",
        "\n",
        "    except Exception as e:\n",
        "        print(f\"An error occurred while interacting with the Generative AI model: {e}\")\n",
        "\n",
        "# 6. Task completed - Code integrated and commented.\n",
        "print(\"\\nTask completed: Code integrated and commented.\")"
      ],
      "execution_count": 34,
      "outputs": [
        {
          "output_type": "stream",
          "name": "stdout",
          "text": [
            "API 金鑰載入成功。\n",
            "Google Generative AI 模型 'gemini-1.5-flash' 已初始化。\n",
            "請輸入您的問題：Who is the son of my dad's wife?\n",
            "\n",
            "提示文字已建立：Who is the son of my dad's wife?\n",
            "正在傳送提示給模型...\n",
            "提示已傳送，回應已接收。\n",
            "\n",
            "--- AI 模型回應 ---\n",
            "That's you (or your brother if you have one).\n",
            "\n",
            "-------------------------\n",
            "\n",
            "任務完成：程式碼已整合並註解。\n"
          ]
        }
      ]
    },
    {
      "cell_type": "code",
      "source": [],
      "metadata": {
        "id": "NA4JyOydvvNb"
      },
      "execution_count": null,
      "outputs": []
    }
  ]
}