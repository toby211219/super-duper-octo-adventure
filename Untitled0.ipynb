{
  "nbformat": 4,
  "nbformat_minor": 0,
  "metadata": {
    "colab": {
      "provenance": [],
      "authorship_tag": "ABX9TyMRbLuIKeOctxRY5pUH/ruu",
      "include_colab_link": true
    },
    "kernelspec": {
      "name": "python3",
      "display_name": "Python 3"
    },
    "language_info": {
      "name": "python"
    }
  },
  "cells": [
    {
      "cell_type": "markdown",
      "metadata": {
        "id": "view-in-github",
        "colab_type": "text"
      },
      "source": [
        "<a href=\"https://colab.research.google.com/github/toby211219/super-duper-octo-adventure/blob/main/Untitled0.ipynb\" target=\"_parent\"><img src=\"https://colab.research.google.com/assets/colab-badge.svg\" alt=\"Open In Colab\"/></a>"
      ]
    },
    {
      "cell_type": "code",
      "metadata": {
        "colab": {
          "base_uri": "https://localhost:8080/",
          "height": 260
        },
        "id": "70634447",
        "outputId": "085af29d-848b-4e9d-cc7f-c4948c7a0899"
      },
      "source": [
        "# 1. 安裝必要的程式庫\n",
        "# 這行程式碼會安裝 Google Generative AI Python 客戶端程式庫。\n",
        "# 如果您已經安裝過，可以跳過這一步。\n",
        "!pip install google-generativeai -q\n",
        "\n",
        "# 引入必要的程式庫\n",
        "import google.generativeai as genai\n",
        "from google.colab import userdata\n",
        "import os\n",
        "\n",
        "# 2. 載入 API 金鑰\n",
        "# 從 Colab 秘密管理員中安全地載入您的 Google AI Studio API 金鑰。\n",
        "# 請務必將您的金鑰新增到秘密管理員中，並將其命名為 'GOOGLE_API_KEY'。\n",
        "api_key = None\n",
        "try:\n",
        "    api_key = userdata.get('GOOGLE_API_KEY')\n",
        "    if api_key is None:\n",
        "        print(\"API key not found in Colab Secrets Manager. Please add it as 'GOOGLE_API_KEY'.\")\n",
        "except Exception as e:\n",
        "    print(f\"An error occurred while loading the API key: {e}\")\n",
        "\n",
        "if not api_key:\n",
        "    print(\"無法載入 API 金鑰，請檢查秘密管理員設定。\")\n",
        "else:\n",
        "    print(\"API 金鑰載入成功。\")\n",
        "    # 3. 初始化 Generative AI 模型\n",
        "    # 使用載入的金鑰初始化 Google Generative AI 模型。\n",
        "    try:\n",
        "        genai.configure(api_key=api_key)\n",
        "        # 選擇一個支援 generate_content 方法的模型，例如 'gemini-pro' 或 'gemini-1.5-flash'\n",
        "        # 您可以使用 genai.list_models() 來查看可用的模型\n",
        "        model_name = 'gemini-1.5-flash' # Or 'gemini-pro' or another suitable model\n",
        "        model = genai.GenerativeModel(model_name)\n",
        "        print(f\"Google Generative AI 模型 '{model_name}' 已初始化。\")\n",
        "\n",
        "        # --- 新增使用者輸入提示的程式碼 ---\n",
        "        prompt_text = input(\"請輸入您的問題：\")\n",
        "        # --- 結束新增使用者輸入提示的程式碼 ---\n",
        "\n",
        "        # 4. 傳送提示並捕捉回應\n",
        "        print(f\"\\n提示文字已建立：{prompt_text}\")\n",
        "\n",
        "        print(\"正在傳送提示給模型...\")\n",
        "        response = model.generate_content(prompt_text)\n",
        "        print(\"提示已傳送，回應已接收。\")\n",
        "\n",
        "        # 5. 處理並顯示回應\n",
        "        # 獲取模型的生成回應並顯示出來。\n",
        "        try:\n",
        "            response_text = response.text\n",
        "            print(\"\\n--- AI 模型回應 ---\")\n",
        "            print(response_text)\n",
        "            print(\"-------------------------\")\n",
        "        except AttributeError:\n",
        "            print(\"無法從回應物件中提取文字。\")\n",
        "            print(\"完整回應物件：\", response)\n",
        "\n",
        "    except Exception as e:\n",
        "        print(f\"與 Generative AI 模型互動時發生錯誤：{e}\")\n",
        "\n",
        "# 6. 完成任務 - 程式碼已整合並註解。\n",
        "print(\"\\n任務完成：程式碼已整合並註解。\")"
      ],
      "execution_count": 33,
      "outputs": [
        {
          "output_type": "stream",
          "name": "stdout",
          "text": [
            "API 金鑰載入成功。\n",
            "Google Generative AI 模型 'gemini-1.5-flash' 已初始化。\n",
            "請輸入您的問題：1+2+3=6\n",
            "\n",
            "提示文字已建立：1+2+3=6\n",
            "正在傳送提示給模型...\n",
            "提示已傳送，回應已接收。\n",
            "\n",
            "--- AI 模型回應 ---\n",
            "That's correct. 1 + 2 + 3 = 6\n",
            "\n",
            "-------------------------\n",
            "\n",
            "任務完成：程式碼已整合並註解。\n"
          ]
        }
      ]
    },
    {
      "cell_type": "code",
      "source": [],
      "metadata": {
        "id": "NA4JyOydvvNb"
      },
      "execution_count": null,
      "outputs": []
    }
  ]
}